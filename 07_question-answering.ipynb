{
 "cells": [
  {
   "cell_type": "code",
   "execution_count": null,
   "metadata": {},
   "outputs": [],
   "source": [
    "# Uncomment and run this cell if you're on Colab or Kaggle\n",
    "# !git clone https://github.com/nlp-with-transformers/notebooks.git\n",
    "# %cd notebooks\n",
    "# from install import *\n",
    "# install_requirements(is_chapter7=True)"
   ]
  },
  {
   "cell_type": "code",
   "execution_count": null,
   "metadata": {},
   "outputs": [],
   "source": [
    "#hide\n",
    "from utils import *\n",
    "setup_chapter()"
   ]
  },
  {
   "cell_type": "code",
   "execution_count": 1,
   "metadata": {},
   "outputs": [
    {
     "name": "stdout",
     "output_type": "stream",
     "text": [
      "env: TOKENIZERS_PARALLELISM=false\n"
     ]
    }
   ],
   "source": [
    "#hide\n",
    "%env TOKENIZERS_PARALLELISM=false"
   ]
  },
  {
   "cell_type": "code",
   "execution_count": 2,
   "metadata": {},
   "outputs": [],
   "source": [
    "#hide\n",
    "# Suppress Haystack logging\n",
    "import logging\n",
    "for module in [\"farm.utils\", \"farm.infer\", \"haystack.reader.farm.FARMReader\",\n",
    "              \"farm.modeling.prediction_head\", \"elasticsearch\", \"haystack.eval\",\n",
    "               \"haystack.document_store.base\", \"haystack.retriever.base\", \n",
    "              \"farm.data_handler.dataset\"]:\n",
    "    module_logger = logging.getLogger(module)\n",
    "    module_logger.setLevel(logging.ERROR)"
   ]
  },
  {
   "cell_type": "markdown",
   "metadata": {},
   "source": [
    "# Question Answering"
   ]
  },
  {
   "cell_type": "markdown",
   "metadata": {},
   "source": [
    "<img alt=\"Marie Curie\" width=\"500\" caption=\"A Google search query and corresponding answer snippet\" src=\"images/chapter07_marie-curie.png\" id=\"marie-curie\"/>"
   ]
  },
  {
   "cell_type": "markdown",
   "metadata": {},
   "source": [
    "## Building a Review-Based QA System"
   ]
  },
  {
   "cell_type": "markdown",
   "metadata": {},
   "source": [
    "### The Dataset"
   ]
  },
  {
   "cell_type": "markdown",
   "metadata": {},
   "source": [
    "<img alt=\"Phone with Query\" width=\"400\" caption=\"A question about a product and the corresponding review (the answer span is underlined)\" src=\"images/chapter07_phone.png\" id=\"phone\"/>"
   ]
  },
  {
   "cell_type": "code",
   "execution_count": 3,
   "metadata": {},
   "outputs": [],
   "source": [
    "from datasets import get_dataset_config_names"
   ]
  },
  {
   "cell_type": "code",
   "execution_count": 4,
   "metadata": {},
   "outputs": [],
   "source": [
    "domains = get_dataset_config_names(\"subjqa\")"
   ]
  },
  {
   "cell_type": "code",
   "execution_count": 5,
   "metadata": {},
   "outputs": [
    {
     "data": {
      "text/plain": [
       "['books', 'electronics', 'grocery', 'movies', 'restaurants', 'tripadvisor']"
      ]
     },
     "execution_count": 5,
     "metadata": {},
     "output_type": "execute_result"
    }
   ],
   "source": [
    "domains"
   ]
  },
  {
   "cell_type": "code",
   "execution_count": 6,
   "metadata": {},
   "outputs": [],
   "source": [
    "#hide_output\n",
    "from datasets import load_dataset"
   ]
  },
  {
   "cell_type": "code",
   "execution_count": 7,
   "metadata": {},
   "outputs": [
    {
     "name": "stderr",
     "output_type": "stream",
     "text": [
      "Reusing dataset subjqa (/home/andreas/.cache/huggingface/datasets/subjqa/electronics/1.1.0/e5588f9298ff2d70686a00cc377e4bdccf4e32287459e3c6baf2dc5ab57fe7fd)\n"
     ]
    },
    {
     "data": {
      "application/vnd.jupyter.widget-view+json": {
       "model_id": "dec1d1dc01fb4b199eb114ffc3bf3305",
       "version_major": 2,
       "version_minor": 0
      },
      "text/plain": [
       "  0%|          | 0/3 [00:00<?, ?it/s]"
      ]
     },
     "metadata": {},
     "output_type": "display_data"
    }
   ],
   "source": [
    "subjqa = load_dataset(\"subjqa\", name=\"electronics\")"
   ]
  },
  {
   "cell_type": "code",
   "execution_count": 8,
   "metadata": {},
   "outputs": [
    {
     "name": "stdout",
     "output_type": "stream",
     "text": [
      "{'text': ['Bass is weak as expected', 'Bass is weak as expected, even with EQ adjusted up'], 'answer_start': [1302, 1302], 'answer_subj_level': [1, 1], 'ans_subj_score': [0.5083333253860474, 0.5083333253860474], 'is_ans_subjective': [True, True]}\n"
     ]
    }
   ],
   "source": [
    "print(subjqa[\"train\"][\"answers\"][1])"
   ]
  },
  {
   "cell_type": "code",
   "execution_count": 9,
   "metadata": {},
   "outputs": [],
   "source": [
    "import pandas as pd"
   ]
  },
  {
   "cell_type": "code",
   "execution_count": 10,
   "metadata": {},
   "outputs": [],
   "source": [
    "dfs = {split: dset.to_pandas() for split, dset in subjqa.flatten().items()}"
   ]
  },
  {
   "cell_type": "code",
   "execution_count": 11,
   "metadata": {},
   "outputs": [
    {
     "name": "stdout",
     "output_type": "stream",
     "text": [
      "Number of questions in train: 1295\n",
      "Number of questions in test: 358\n",
      "Number of questions in validation: 255\n"
     ]
    }
   ],
   "source": [
    "for split, df in dfs.items():\n",
    "    print(f\"Number of questions in {split}: {df['id'].nunique()}\")"
   ]
  },
  {
   "cell_type": "code",
   "execution_count": 12,
   "metadata": {},
   "outputs": [
    {
     "data": {
      "text/html": [
       "<div>\n",
       "<style scoped>\n",
       "    .dataframe tbody tr th:only-of-type {\n",
       "        vertical-align: middle;\n",
       "    }\n",
       "\n",
       "    .dataframe tbody tr th {\n",
       "        vertical-align: top;\n",
       "    }\n",
       "\n",
       "    .dataframe thead th {\n",
       "        text-align: right;\n",
       "    }\n",
       "</style>\n",
       "<table border=\"1\" class=\"dataframe\">\n",
       "  <thead>\n",
       "    <tr style=\"text-align: right;\">\n",
       "      <th></th>\n",
       "      <th>domain</th>\n",
       "      <th>nn_mod</th>\n",
       "      <th>nn_asp</th>\n",
       "      <th>query_mod</th>\n",
       "      <th>query_asp</th>\n",
       "      <th>q_reviews_id</th>\n",
       "      <th>question_subj_level</th>\n",
       "      <th>ques_subj_score</th>\n",
       "      <th>is_ques_subjective</th>\n",
       "      <th>review_id</th>\n",
       "      <th>id</th>\n",
       "      <th>title</th>\n",
       "      <th>context</th>\n",
       "      <th>question</th>\n",
       "      <th>answers.text</th>\n",
       "      <th>answers.answer_start</th>\n",
       "      <th>answers.answer_subj_level</th>\n",
       "      <th>answers.ans_subj_score</th>\n",
       "      <th>answers.is_ans_subjective</th>\n",
       "    </tr>\n",
       "  </thead>\n",
       "  <tbody>\n",
       "    <tr>\n",
       "      <th>0</th>\n",
       "      <td>electronics</td>\n",
       "      <td>great</td>\n",
       "      <td>bass response</td>\n",
       "      <td>excellent</td>\n",
       "      <td>bass</td>\n",
       "      <td>0514ee34b672623dff659334a25b599b</td>\n",
       "      <td>5</td>\n",
       "      <td>0.50</td>\n",
       "      <td>False</td>\n",
       "      <td>882b1e2745a4779c8f17b3d4406b91c7</td>\n",
       "      <td>2543d296da9766d8d17d040ecc781699</td>\n",
       "      <td>B00001P4ZH</td>\n",
       "      <td>I have had Koss headphones in the past, Pro 4A...</td>\n",
       "      <td>How is the bass?</td>\n",
       "      <td>[]</td>\n",
       "      <td>[]</td>\n",
       "      <td>[]</td>\n",
       "      <td>[]</td>\n",
       "      <td>[]</td>\n",
       "    </tr>\n",
       "    <tr>\n",
       "      <th>1</th>\n",
       "      <td>electronics</td>\n",
       "      <td>harsh</td>\n",
       "      <td>high</td>\n",
       "      <td>not strong</td>\n",
       "      <td>bass</td>\n",
       "      <td>7c46670208f7bf5497480fbdbb44561a</td>\n",
       "      <td>1</td>\n",
       "      <td>0.50</td>\n",
       "      <td>False</td>\n",
       "      <td>ce76793f036494eabe07b33a9a67288a</td>\n",
       "      <td>d476830bf9282e2b9033e2bb44bbb995</td>\n",
       "      <td>B00001P4ZH</td>\n",
       "      <td>To anyone who hasn't tried all the various typ...</td>\n",
       "      <td>Is this music song have a goo bass?</td>\n",
       "      <td>[Bass is weak as expected, Bass is weak as exp...</td>\n",
       "      <td>[1302, 1302]</td>\n",
       "      <td>[1, 1]</td>\n",
       "      <td>[0.5083333, 0.5083333]</td>\n",
       "      <td>[True, True]</td>\n",
       "    </tr>\n",
       "    <tr>\n",
       "      <th>2</th>\n",
       "      <td>electronics</td>\n",
       "      <td>neutral</td>\n",
       "      <td>sound</td>\n",
       "      <td>present</td>\n",
       "      <td>bass</td>\n",
       "      <td>8fbf26792c438aa83178c2d507af5d77</td>\n",
       "      <td>1</td>\n",
       "      <td>0.50</td>\n",
       "      <td>False</td>\n",
       "      <td>d040f2713caa2aff0ce95affb40e12c2</td>\n",
       "      <td>455575557886d6dfeea5aa19577e5de4</td>\n",
       "      <td>B00001P4ZH</td>\n",
       "      <td>I have had many sub-$100 headphones from $5 Pa...</td>\n",
       "      <td>How is the bass?</td>\n",
       "      <td>[The only fault in the sound is the bass]</td>\n",
       "      <td>[650]</td>\n",
       "      <td>[2]</td>\n",
       "      <td>[0.6333333]</td>\n",
       "      <td>[True]</td>\n",
       "    </tr>\n",
       "    <tr>\n",
       "      <th>3</th>\n",
       "      <td>electronics</td>\n",
       "      <td>muddy</td>\n",
       "      <td>bass</td>\n",
       "      <td>awesome</td>\n",
       "      <td>bass</td>\n",
       "      <td>9876fd06ed8f075fcad70d1e30e7e8be</td>\n",
       "      <td>1</td>\n",
       "      <td>0.50</td>\n",
       "      <td>False</td>\n",
       "      <td>043e7162df91f6ea916c790c8a6f6b22</td>\n",
       "      <td>6895a59b470d8feee0f39da6c53a92e5</td>\n",
       "      <td>B00001WRSJ</td>\n",
       "      <td>My sister's Bose headphones finally died and s...</td>\n",
       "      <td>How is the audio bass?</td>\n",
       "      <td>[the best of all of them]</td>\n",
       "      <td>[1609]</td>\n",
       "      <td>[1]</td>\n",
       "      <td>[0.3]</td>\n",
       "      <td>[False]</td>\n",
       "    </tr>\n",
       "    <tr>\n",
       "      <th>4</th>\n",
       "      <td>electronics</td>\n",
       "      <td>perfect</td>\n",
       "      <td>bass</td>\n",
       "      <td>incredible</td>\n",
       "      <td>sound</td>\n",
       "      <td>16506b53e2d4c2b6a65881d9462256c2</td>\n",
       "      <td>1</td>\n",
       "      <td>0.65</td>\n",
       "      <td>True</td>\n",
       "      <td>29ccd7e690050e2951be49289e915382</td>\n",
       "      <td>7a2173c502da97c5bd5950eae7cd7430</td>\n",
       "      <td>B00001WRSJ</td>\n",
       "      <td>Wow. Just wow. I'm a 22 yr old with a crazy ob...</td>\n",
       "      <td>Why do I have an incredible sound?</td>\n",
       "      <td>[The sound is so crisp, crazy obsession with s...</td>\n",
       "      <td>[141, 38]</td>\n",
       "      <td>[1, 1]</td>\n",
       "      <td>[0.40833333, 0.40833333]</td>\n",
       "      <td>[False, False]</td>\n",
       "    </tr>\n",
       "  </tbody>\n",
       "</table>\n",
       "</div>"
      ],
      "text/plain": [
       "        domain   nn_mod         nn_asp   query_mod query_asp  \\\n",
       "0  electronics    great  bass response   excellent      bass   \n",
       "1  electronics    harsh           high  not strong      bass   \n",
       "2  electronics  neutral          sound     present      bass   \n",
       "3  electronics    muddy           bass     awesome      bass   \n",
       "4  electronics  perfect           bass  incredible     sound   \n",
       "\n",
       "                       q_reviews_id  question_subj_level  ques_subj_score  \\\n",
       "0  0514ee34b672623dff659334a25b599b                    5             0.50   \n",
       "1  7c46670208f7bf5497480fbdbb44561a                    1             0.50   \n",
       "2  8fbf26792c438aa83178c2d507af5d77                    1             0.50   \n",
       "3  9876fd06ed8f075fcad70d1e30e7e8be                    1             0.50   \n",
       "4  16506b53e2d4c2b6a65881d9462256c2                    1             0.65   \n",
       "\n",
       "   is_ques_subjective                         review_id  \\\n",
       "0               False  882b1e2745a4779c8f17b3d4406b91c7   \n",
       "1               False  ce76793f036494eabe07b33a9a67288a   \n",
       "2               False  d040f2713caa2aff0ce95affb40e12c2   \n",
       "3               False  043e7162df91f6ea916c790c8a6f6b22   \n",
       "4                True  29ccd7e690050e2951be49289e915382   \n",
       "\n",
       "                                 id       title  \\\n",
       "0  2543d296da9766d8d17d040ecc781699  B00001P4ZH   \n",
       "1  d476830bf9282e2b9033e2bb44bbb995  B00001P4ZH   \n",
       "2  455575557886d6dfeea5aa19577e5de4  B00001P4ZH   \n",
       "3  6895a59b470d8feee0f39da6c53a92e5  B00001WRSJ   \n",
       "4  7a2173c502da97c5bd5950eae7cd7430  B00001WRSJ   \n",
       "\n",
       "                                             context  \\\n",
       "0  I have had Koss headphones in the past, Pro 4A...   \n",
       "1  To anyone who hasn't tried all the various typ...   \n",
       "2  I have had many sub-$100 headphones from $5 Pa...   \n",
       "3  My sister's Bose headphones finally died and s...   \n",
       "4  Wow. Just wow. I'm a 22 yr old with a crazy ob...   \n",
       "\n",
       "                              question  \\\n",
       "0                     How is the bass?   \n",
       "1  Is this music song have a goo bass?   \n",
       "2                     How is the bass?   \n",
       "3               How is the audio bass?   \n",
       "4   Why do I have an incredible sound?   \n",
       "\n",
       "                                        answers.text answers.answer_start  \\\n",
       "0                                                 []                   []   \n",
       "1  [Bass is weak as expected, Bass is weak as exp...         [1302, 1302]   \n",
       "2          [The only fault in the sound is the bass]                [650]   \n",
       "3                          [the best of all of them]               [1609]   \n",
       "4  [The sound is so crisp, crazy obsession with s...            [141, 38]   \n",
       "\n",
       "  answers.answer_subj_level    answers.ans_subj_score  \\\n",
       "0                        []                        []   \n",
       "1                    [1, 1]    [0.5083333, 0.5083333]   \n",
       "2                       [2]               [0.6333333]   \n",
       "3                       [1]                     [0.3]   \n",
       "4                    [1, 1]  [0.40833333, 0.40833333]   \n",
       "\n",
       "  answers.is_ans_subjective  \n",
       "0                        []  \n",
       "1              [True, True]  \n",
       "2                    [True]  \n",
       "3                   [False]  \n",
       "4            [False, False]  "
      ]
     },
     "execution_count": 12,
     "metadata": {},
     "output_type": "execute_result"
    }
   ],
   "source": [
    "dfs['train'].head()"
   ]
  },
  {
   "cell_type": "code",
   "execution_count": 13,
   "metadata": {},
   "outputs": [
    {
     "data": {
      "text/html": [
       "<div>\n",
       "<style scoped>\n",
       "    .dataframe tbody tr th:only-of-type {\n",
       "        vertical-align: middle;\n",
       "    }\n",
       "\n",
       "    .dataframe tbody tr th {\n",
       "        vertical-align: top;\n",
       "    }\n",
       "\n",
       "    .dataframe thead th {\n",
       "        text-align: right;\n",
       "    }\n",
       "</style>\n",
       "<table border=\"1\" class=\"dataframe\">\n",
       "  <thead>\n",
       "    <tr style=\"text-align: right;\">\n",
       "      <th></th>\n",
       "      <th>title</th>\n",
       "      <th>question</th>\n",
       "      <th>answers.text</th>\n",
       "      <th>answers.answer_start</th>\n",
       "      <th>context</th>\n",
       "    </tr>\n",
       "  </thead>\n",
       "  <tbody>\n",
       "    <tr>\n",
       "      <th>791</th>\n",
       "      <td>B005DKZTMG</td>\n",
       "      <td>Does the keyboard lightweight?</td>\n",
       "      <td>[this keyboard is compact]</td>\n",
       "      <td>[215]</td>\n",
       "      <td>I really like this keyboard.  I give it 4 star...</td>\n",
       "    </tr>\n",
       "    <tr>\n",
       "      <th>1159</th>\n",
       "      <td>B00AAIPT76</td>\n",
       "      <td>How is the battery?</td>\n",
       "      <td>[]</td>\n",
       "      <td>[]</td>\n",
       "      <td>I bought this after the first spare gopro batt...</td>\n",
       "    </tr>\n",
       "  </tbody>\n",
       "</table>\n",
       "</div>"
      ],
      "text/plain": [
       "           title                        question                answers.text  \\\n",
       "791   B005DKZTMG  Does the keyboard lightweight?  [this keyboard is compact]   \n",
       "1159  B00AAIPT76             How is the battery?                          []   \n",
       "\n",
       "     answers.answer_start                                            context  \n",
       "791                 [215]  I really like this keyboard.  I give it 4 star...  \n",
       "1159                   []  I bought this after the first spare gopro batt...  "
      ]
     },
     "execution_count": 13,
     "metadata": {},
     "output_type": "execute_result"
    }
   ],
   "source": [
    "#hide_output\n",
    "qa_cols = [\"title\", \"question\", \"answers.text\", \n",
    "           \"answers.answer_start\", \"context\"]\n",
    "sample_df = dfs[\"train\"][qa_cols].sample(2, random_state=7)\n",
    "sample_df"
   ]
  },
  {
   "cell_type": "code",
   "execution_count": 14,
   "metadata": {},
   "outputs": [
    {
     "data": {
      "text/plain": [
       "'this keyboard is compact'"
      ]
     },
     "execution_count": 14,
     "metadata": {},
     "output_type": "execute_result"
    }
   ],
   "source": [
    "start_idx = sample_df[\"answers.answer_start\"].iloc[0][0]\n",
    "end_idx = start_idx + len(sample_df[\"answers.text\"].iloc[0][0])\n",
    "sample_df[\"context\"].iloc[0][start_idx:end_idx]"
   ]
  },
  {
   "cell_type": "code",
   "execution_count": 15,
   "metadata": {},
   "outputs": [],
   "source": [
    "import matplotlib.pyplot as plt"
   ]
  },
  {
   "cell_type": "code",
   "execution_count": 16,
   "metadata": {},
   "outputs": [
    {
     "data": {
      "image/png": "[encoded data removed]",
      "text/plain": [
       "<Figure size 432x288 with 1 Axes>"
      ]
     },
     "metadata": {
      "needs_background": "light"
     },
     "output_type": "display_data"
    }
   ],
   "source": [
    "counts = {}\n",
    "question_types = [\"What\", \"How\", \"Is\", \"Does\", \"Do\", \"Was\", \"Where\", \"Why\"]\n",
    "\n",
    "for q in question_types:\n",
    "    counts[q] = dfs[\"train\"][\"question\"].str.startswith(q).value_counts()[True]\n",
    "\n",
    "pd.Series(counts).sort_values().plot.barh()\n",
    "plt.title(\"Frequency of Question Types\")\n",
    "plt.show()"
   ]
  },
  {
   "cell_type": "code",
   "execution_count": 17,
   "metadata": {},
   "outputs": [
    {
     "name": "stdout",
     "output_type": "stream",
     "text": [
      "How is the camera?\n",
      "How do you like the control?\n",
      "How fast is the charger?\n",
      "What is direction?\n",
      "What is the quality of the construction of the bag?\n",
      "What is your impression of the product?\n",
      "Is this how zoom works?\n",
      "Is sound clear?\n",
      "Is it a wireless keyboard?\n"
     ]
    }
   ],
   "source": [
    "for question_type in [\"How\", \"What\", \"Is\"]:\n",
    "    for question in (\n",
    "        dfs[\"train\"][dfs[\"train\"].question.str.startswith(question_type)]\n",
    "        .sample(n=3, random_state=42)['question']):\n",
    "        print(question)"
   ]
  },
  {
   "cell_type": "markdown",
   "metadata": {},
   "source": [
    "### Sidebar: The Stanford Question Answering Dataset"
   ]
  },
  {
   "cell_type": "markdown",
   "metadata": {},
   "source": [
    "<img alt=\"SQuAD SotA\" width=\"600\" caption=\"Progress on the SQuAD 2.0 benchmark (image from Papers with Code)\" src=\"images/chapter07_squad-sota.png\" id=\"squad-sota\"/>"
   ]
  },
  {
   "cell_type": "markdown",
   "metadata": {},
   "source": [
    "### End sidebar"
   ]
  },
  {
   "cell_type": "markdown",
   "metadata": {},
   "source": [
    "### Extracting Answers from Text"
   ]
  },
  {
   "cell_type": "markdown",
   "metadata": {},
   "source": [
    "#### Span classification"
   ]
  },
  {
   "cell_type": "markdown",
   "metadata": {},
   "source": [
    "<img alt=\"QA Head\" caption=\"The span classification head for QA tasks\" src=\"images/chapter07_qa-head.png\" id=\"qa-head\"/>"
   ]
  },
  {
   "cell_type": "markdown",
   "metadata": {},
   "source": [
    "<img alt=\"SQuAD models\" width=\"600\" caption=\"A selection of extractive QA models on the Hugging Face Hub\" src=\"images/chapter07_squad-models.png\" id=\"squad-models\"/> "
   ]
  },
  {
   "cell_type": "markdown",
   "metadata": {},
   "source": [
    "#### Tokenizing text for QA"
   ]
  },
  {
   "cell_type": "code",
   "execution_count": 18,
   "metadata": {},
   "outputs": [],
   "source": [
    "#hide_output\n",
    "from transformers import AutoTokenizer"
   ]
  },
  {
   "cell_type": "code",
   "execution_count": 19,
   "metadata": {},
   "outputs": [],
   "source": [
    "model_ckpt = \"deepset/minilm-uncased-squad2\"\n",
    "tokenizer = AutoTokenizer.from_pretrained(model_ckpt)"
   ]
  },
  {
   "cell_type": "code",
   "execution_count": 20,
   "metadata": {},
   "outputs": [],
   "source": [
    "question = \"How much music can this hold?\"\n",
    "context = \"\"\"An MP3 is about 1 MB/minute, so about 6000 hours depending on \\\n",
    "file size.\"\"\"\n",
    "inputs = tokenizer(question, context, return_tensors=\"pt\")"
   ]
  },
  {
   "cell_type": "code",
   "execution_count": 21,
   "metadata": {},
   "outputs": [
    {
     "data": {
      "text/html": [
       "<div>\n",
       "<style scoped>\n",
       "    .dataframe tbody tr th:only-of-type {\n",
       "        vertical-align: middle;\n",
       "    }\n",
       "\n",
       "    .dataframe tbody tr th {\n",
       "        vertical-align: top;\n",
       "    }\n",
       "\n",
       "    .dataframe thead th {\n",
       "        text-align: right;\n",
       "    }\n",
       "</style>\n",
       "<table border=\"1\" class=\"dataframe\">\n",
       "  <thead>\n",
       "    <tr style=\"text-align: right;\">\n",
       "      <th></th>\n",
       "      <th>0</th>\n",
       "      <th>1</th>\n",
       "      <th>2</th>\n",
       "      <th>3</th>\n",
       "      <th>4</th>\n",
       "      <th>5</th>\n",
       "      <th>6</th>\n",
       "      <th>7</th>\n",
       "      <th>8</th>\n",
       "      <th>9</th>\n",
       "      <th>...</th>\n",
       "      <th>18</th>\n",
       "      <th>19</th>\n",
       "      <th>20</th>\n",
       "      <th>21</th>\n",
       "      <th>22</th>\n",
       "      <th>23</th>\n",
       "      <th>24</th>\n",
       "      <th>25</th>\n",
       "      <th>26</th>\n",
       "      <th>27</th>\n",
       "    </tr>\n",
       "  </thead>\n",
       "  <tbody>\n",
       "    <tr>\n",
       "      <th>input_ids</th>\n",
       "      <td>101</td>\n",
       "      <td>2129</td>\n",
       "      <td>2172</td>\n",
       "      <td>2189</td>\n",
       "      <td>2064</td>\n",
       "      <td>2023</td>\n",
       "      <td>2907</td>\n",
       "      <td>1029</td>\n",
       "      <td>102</td>\n",
       "      <td>2019</td>\n",
       "      <td>...</td>\n",
       "      <td>2061</td>\n",
       "      <td>2055</td>\n",
       "      <td>25961</td>\n",
       "      <td>2847</td>\n",
       "      <td>5834</td>\n",
       "      <td>2006</td>\n",
       "      <td>5371</td>\n",
       "      <td>2946</td>\n",
       "      <td>1012</td>\n",
       "      <td>102</td>\n",
       "    </tr>\n",
       "    <tr>\n",
       "      <th>token_type_ids</th>\n",
       "      <td>0</td>\n",
       "      <td>0</td>\n",
       "      <td>0</td>\n",
       "      <td>0</td>\n",
       "      <td>0</td>\n",
       "      <td>0</td>\n",
       "      <td>0</td>\n",
       "      <td>0</td>\n",
       "      <td>0</td>\n",
       "      <td>1</td>\n",
       "      <td>...</td>\n",
       "      <td>1</td>\n",
       "      <td>1</td>\n",
       "      <td>1</td>\n",
       "      <td>1</td>\n",
       "      <td>1</td>\n",
       "      <td>1</td>\n",
       "      <td>1</td>\n",
       "      <td>1</td>\n",
       "      <td>1</td>\n",
       "      <td>1</td>\n",
       "    </tr>\n",
       "    <tr>\n",
       "      <th>attention_mask</th>\n",
       "      <td>1</td>\n",
       "      <td>1</td>\n",
       "      <td>1</td>\n",
       "      <td>1</td>\n",
       "      <td>1</td>\n",
       "      <td>1</td>\n",
       "      <td>1</td>\n",
       "      <td>1</td>\n",
       "      <td>1</td>\n",
       "      <td>1</td>\n",
       "      <td>...</td>\n",
       "      <td>1</td>\n",
       "      <td>1</td>\n",
       "      <td>1</td>\n",
       "      <td>1</td>\n",
       "      <td>1</td>\n",
       "      <td>1</td>\n",
       "      <td>1</td>\n",
       "      <td>1</td>\n",
       "      <td>1</td>\n",
       "      <td>1</td>\n",
       "    </tr>\n",
       "  </tbody>\n",
       "</table>\n",
       "<p>3 rows × 28 columns</p>\n",
       "</div>"
      ],
      "text/plain": [
       "                 0     1     2     3     4     5     6     7    8     9   ...  \\\n",
       "input_ids       101  2129  2172  2189  2064  2023  2907  1029  102  2019  ...   \n",
       "token_type_ids    0     0     0     0     0     0     0     0    0     1  ...   \n",
       "attention_mask    1     1     1     1     1     1     1     1    1     1  ...   \n",
       "\n",
       "                  18    19     20    21    22    23    24    25    26   27  \n",
       "input_ids       2061  2055  25961  2847  5834  2006  5371  2946  1012  102  \n",
       "token_type_ids     1     1      1     1     1     1     1     1     1    1  \n",
       "attention_mask     1     1      1     1     1     1     1     1     1    1  \n",
       "\n",
       "[3 rows x 28 columns]"
      ]
     },
     "execution_count": 21,
     "metadata": {},
     "output_type": "execute_result"
    }
   ],
   "source": [
    "#hide_input\n",
    "input_df = pd.DataFrame.from_dict(tokenizer(question, context), orient=\"index\")\n",
    "input_df"
   ]
  },
  {
   "cell_type": "code",
   "execution_count": 22,
   "metadata": {},
   "outputs": [
    {
     "name": "stdout",
     "output_type": "stream",
     "text": [
      "[CLS] how much music can this hold? [SEP] an mp3 is about 1 mb / minute, so about 6000 hours depending on file size. [SEP]\n"
     ]
    }
   ],
   "source": [
    "print(tokenizer.decode(inputs[\"input_ids\"][0]))"
   ]
  },
  {
   "cell_type": "code",
   "execution_count": 23,
   "metadata": {},
   "outputs": [],
   "source": [
    "import torch\n",
    "from transformers import AutoModelForQuestionAnswering"
   ]
  },
  {
   "cell_type": "code",
   "execution_count": 24,
   "metadata": {},
   "outputs": [],
   "source": [
    "model = AutoModelForQuestionAnswering.from_pretrained(model_ckpt)"
   ]
  },
  {
   "cell_type": "code",
   "execution_count": 25,
   "metadata": {},
   "outputs": [],
   "source": [
    "with torch.no_grad():\n",
    "    outputs = model(**inputs)"
   ]
  },
  {
   "cell_type": "code",
   "execution_count": 26,
   "metadata": {},
   "outputs": [
    {
     "name": "stdout",
     "output_type": "stream",
     "text": [
      "QuestionAnsweringModelOutput(loss=None, start_logits=tensor([[-0.9862, -4.7750, -5.4025, -5.2378, -5.2863, -5.5117, -4.9819, -6.1880,\n",
      "         -0.9862,  0.2596, -0.2144, -1.7136,  3.7806,  4.8561, -1.0546, -3.9097,\n",
      "         -1.7374, -4.5944, -1.4278,  3.9949,  5.0391, -0.2018, -3.0193, -4.8549,\n",
      "         -2.3107, -3.5110, -3.5713, -0.9862]]), end_logits=tensor([[-0.9623, -5.4733, -5.0326, -5.1639, -5.4278, -5.5151, -5.1749, -4.6233,\n",
      "         -0.9623, -3.7855, -0.8715, -3.7745, -3.0162, -1.1780,  0.1758, -2.7365,\n",
      "          4.8934,  0.3046, -3.1761, -3.2762,  0.8937,  5.6606, -0.3623, -4.9554,\n",
      "         -3.2531, -0.0914,  1.6211, -0.9623]]), hidden_states=None, attentions=None)\n"
     ]
    }
   ],
   "source": [
    "print(outputs)"
   ]
  },
  {
   "cell_type": "code",
   "execution_count": 27,
   "metadata": {},
   "outputs": [],
   "source": [
    "start_logits = outputs.start_logits\n",
    "end_logits = outputs.end_logits"
   ]
  },
  {
   "cell_type": "code",
   "execution_count": 28,
   "metadata": {},
   "outputs": [
    {
     "name": "stdout",
     "output_type": "stream",
     "text": [
      "Input IDs shape: torch.Size([1, 28])\n",
      "Start logits shape: torch.Size([1, 28])\n",
      "End logits shape: torch.Size([1, 28])\n"
     ]
    }
   ],
   "source": [
    "print(f\"Input IDs shape: {inputs.input_ids.size()}\")\n",
    "print(f\"Start logits shape: {start_logits.size()}\")\n",
    "print(f\"End logits shape: {end_logits.size()}\")"
   ]
  },
  {
   "cell_type": "code",
   "execution_count": 29,
   "metadata": {},
   "outputs": [],
   "source": [
    "#hide_input\n",
    "#id qa-scores\n",
    "#caption Predicted logits for the start and end tokens; the token with the highest score is colored in orange\n",
    "\n",
    "# The idea for this visualisation comes from https://mccormickml.com/2020/03/10/question-answering-with-a-fine-tuned-BERT\n",
    "import numpy as np\n",
    "import matplotlib.pyplot as plt"
   ]
  },
  {
   "cell_type": "code",
   "execution_count": 30,
   "metadata": {},
   "outputs": [],
   "source": [
    "s_scores = start_logits.detach().numpy().flatten()\n",
    "e_scores = end_logits.detach().numpy().flatten()\n",
    "tokens = tokenizer.convert_ids_to_tokens(inputs[\"input_ids\"][0])"
   ]
  },
  {
   "cell_type": "code",
   "execution_count": 31,
   "metadata": {},
   "outputs": [
    {
     "data": {
      "image/png": "[encoded data removed]",
      "text/plain": [
       "<Figure size 432x288 with 2 Axes>"
      ]
     },
     "metadata": {
      "needs_background": "light"
     },
     "output_type": "display_data"
    }
   ],
   "source": [
    "fig, (ax1, ax2) = plt.subplots(nrows=2, sharex=True)\n",
    "colors = [\"C0\" if s != np.max(s_scores) else \"C1\" for s in s_scores]\n",
    "ax1.bar(x=tokens, height=s_scores, color=colors)\n",
    "ax1.set_ylabel(\"Start Scores\")\n",
    "colors = [\"C0\" if s != np.max(e_scores) else \"C1\" for s in e_scores]\n",
    "ax2.bar(x=tokens, height=e_scores, color=colors)\n",
    "ax2.set_ylabel(\"End Scores\")\n",
    "plt.xticks(rotation=\"vertical\")\n",
    "plt.show()"
   ]
  },
  {
   "cell_type": "code",
   "execution_count": 32,
   "metadata": {},
   "outputs": [
    {
     "name": "stdout",
     "output_type": "stream",
     "text": [
      "Question: How much music can this hold?\n",
      "Answer: 6000 hours\n"
     ]
    }
   ],
   "source": [
    "import torch \n",
    "\n",
    "start_idx = torch.argmax(start_logits)  \n",
    "end_idx = torch.argmax(end_logits) + 1  \n",
    "answer_span = inputs[\"input_ids\"][0][start_idx:end_idx]\n",
    "answer = tokenizer.decode(answer_span)\n",
    "print(f\"Question: {question}\")\n",
    "print(f\"Answer: {answer}\")"
   ]
  },
  {
   "cell_type": "code",
   "execution_count": 33,
   "metadata": {},
   "outputs": [
    {
     "data": {
      "text/plain": [
       "'An MP3 is about 1 MB/minute, so about 6000 hours depending on file size.'"
      ]
     },
     "execution_count": 33,
     "metadata": {},
     "output_type": "execute_result"
    }
   ],
   "source": [
    "context"
   ]
  },
  {
   "cell_type": "code",
   "execution_count": 34,
   "metadata": {
    "scrolled": true,
    "tags": []
   },
   "outputs": [],
   "source": [
    "from transformers import pipeline"
   ]
  },
  {
   "cell_type": "code",
   "execution_count": 35,
   "metadata": {},
   "outputs": [
    {
     "name": "stderr",
     "output_type": "stream",
     "text": [
      "/home/andreas/miniconda3/lib/python3.9/site-packages/transformers/pipelines/question_answering.py:316: UserWarning: Creating a tensor from a list of numpy.ndarrays is extremely slow. Please consider converting the list to a single numpy.ndarray with numpy.array() before converting to a tensor. (Triggered internally at  ../torch/csrc/utils/tensor_new.cpp:210.)\n",
      "  fw_args = {k: torch.tensor(v, device=self.device) for (k, v) in fw_args.items()}\n"
     ]
    },
    {
     "data": {
      "text/plain": [
       "[{'score': 0.2651623487472534, 'start': 38, 'end': 48, 'answer': '6000 hours'},\n",
       " {'score': 0.22082945704460144,\n",
       "  'start': 16,\n",
       "  'end': 48,\n",
       "  'answer': '1 MB/minute, so about 6000 hours'},\n",
       " {'score': 0.10253474861383438,\n",
       "  'start': 16,\n",
       "  'end': 27,\n",
       "  'answer': '1 MB/minute'}]"
      ]
     },
     "execution_count": 35,
     "metadata": {},
     "output_type": "execute_result"
    }
   ],
   "source": [
    "pipe = pipeline(\"question-answering\", model=model, tokenizer=tokenizer)\n",
    "pipe(question=question, context=context, topk=3)"
   ]
  },
  {
   "cell_type": "code",
   "execution_count": 36,
   "metadata": {},
   "outputs": [
    {
     "data": {
      "text/plain": [
       "{'score': 0.9068416357040405, 'start': 0, 'end': 0, 'answer': ''}"
      ]
     },
     "execution_count": 36,
     "metadata": {},
     "output_type": "execute_result"
    }
   ],
   "source": [
    "pipe(question=\"Why is there no data?\", context=context, \n",
    "     handle_impossible_answer=True)"
   ]
  },
  {
   "cell_type": "markdown",
   "metadata": {},
   "source": [
    "#### Dealing with long passages"
   ]
  },
  {
   "cell_type": "code",
   "execution_count": 37,
   "metadata": {},
   "outputs": [],
   "source": [
    "#hide_input\n",
    "#id subjqa-dist\n",
    "#caption Distribution of tokens for each question-context pair in the SubjQA training set\n",
    "def compute_input_length(row):\n",
    "    inputs = tokenizer(row[\"question\"], row[\"context\"])\n",
    "    return len(inputs[\"input_ids\"])"
   ]
  },
  {
   "cell_type": "code",
   "execution_count": 38,
   "metadata": {},
   "outputs": [],
   "source": [
    "dfs[\"train\"][\"n_tokens\"] = dfs[\"train\"].apply(compute_input_length, axis=1)"
   ]
  },
  {
   "cell_type": "code",
   "execution_count": 39,
   "metadata": {},
   "outputs": [
    {
     "data": {
      "image/png": "[encoded data removed]",
      "text/plain": [
       "<Figure size 432x288 with 1 Axes>"
      ]
     },
     "metadata": {
      "needs_background": "light"
     },
     "output_type": "display_data"
    }
   ],
   "source": [
    "fig, ax = plt.subplots()\n",
    "dfs[\"train\"][\"n_tokens\"].hist(bins=100, grid=False, ec=\"C0\", ax=ax)\n",
    "plt.xlabel(\"Number of tokens in question-context pair\")\n",
    "ax.axvline(x=512, ymin=0, ymax=1, linestyle=\"--\", color=\"C1\", label=\"Maximum sequence length\")\n",
    "plt.legend()\n",
    "plt.ylabel(\"Count\")\n",
    "plt.show()"
   ]
  },
  {
   "cell_type": "markdown",
   "metadata": {},
   "source": [
    "<img alt=\"Sliding window\" caption=\"How the sliding window creates multiple question-context pairs for long documents—the first bar corresponds to the question, while the second bar is the context captured in each window\" src=\"images/chapter07_sliding-window.png\" id=\"sliding-window\"/>"
   ]
  },
  {
   "cell_type": "code",
   "execution_count": 40,
   "metadata": {},
   "outputs": [
    {
     "name": "stderr",
     "output_type": "stream",
     "text": [
      "Truncation was not explicitly activated but `max_length` is provided a specific value, please use `truncation=True` to explicitly truncate examples to max length. Defaulting to 'longest_first' truncation strategy. If you encode pairs of sequences (GLUE-style) with the tokenizer you can select this strategy more precisely by providing a specific strategy to `truncation`.\n"
     ]
    }
   ],
   "source": [
    "example = dfs[\"train\"].iloc[0][[\"question\", \"context\"]]\n",
    "tokenized_example = tokenizer(example[\"question\"], example[\"context\"], \n",
    "                              return_overflowing_tokens=True, max_length=100, \n",
    "                              stride=25)"
   ]
  },
  {
   "cell_type": "code",
   "execution_count": 41,
   "metadata": {},
   "outputs": [
    {
     "name": "stdout",
     "output_type": "stream",
     "text": [
      "Window #0 has 100 tokens\n",
      "Window #1 has 88 tokens\n"
     ]
    }
   ],
   "source": [
    "for idx, window in enumerate(tokenized_example[\"input_ids\"]):\n",
    "    print(f\"Window #{idx} has {len(window)} tokens\")"
   ]
  },
  {
   "cell_type": "code",
   "execution_count": 42,
   "metadata": {},
   "outputs": [
    {
     "name": "stdout",
     "output_type": "stream",
     "text": [
      "[CLS] how is the bass? [SEP] i have had koss headphones in the past, pro 4aa and qz - 99. the koss portapro is portable and has great bass response. the work great with my android phone and can be \" rolled up \" to be carried in my motorcycle jacket or computer bag without getting crunched. they are very light and don't feel heavy or bear down on your ears even after listening to music with them on all day. the sound is [SEP] \n",
      "\n",
      "[CLS] how is the bass? [SEP] and don't feel heavy or bear down on your ears even after listening to music with them on all day. the sound is night and day better than any ear - bud could be and are almost as good as the pro 4aa. they are \" open air \" headphones so you cannot match the bass to the sealed types, but it comes close. for $ 32, you cannot go wrong. [SEP] \n",
      "\n"
     ]
    }
   ],
   "source": [
    "for window in tokenized_example[\"input_ids\"]:\n",
    "    print(f\"{tokenizer.decode(window)} \\n\")"
   ]
  },
  {
   "cell_type": "markdown",
   "metadata": {},
   "source": [
    "### Using Haystack to Build a QA Pipeline"
   ]
  },
  {
   "cell_type": "markdown",
   "metadata": {},
   "source": [
    "<img alt=\"QA Architecture\" caption=\"The retriever-reader architecture for modern QA systems\" src=\"images/chapter07_retriever-reader.png\" id=\"retriever-reader\"/>"
   ]
  },
  {
   "cell_type": "markdown",
   "metadata": {},
   "source": [
    "#### Initializing a document store"
   ]
  },
  {
   "cell_type": "code",
   "execution_count": null,
   "metadata": {
    "scrolled": true,
    "tags": []
   },
   "outputs": [],
   "source": [
    "url = \"\"\"https://artifacts.elastic.co/downloads/elasticsearch/\\\n",
    "elasticsearch-7.9.2-linux-x86_64.tar.gz\"\"\"\n",
    "!wget -nc -q {url}"
   ]
  },
  {
   "cell_type": "code",
   "execution_count": null,
   "metadata": {
    "scrolled": true,
    "tags": []
   },
   "outputs": [],
   "source": [
    "!tar -xzf elasticsearch-7.9.2-linux-x86_64.tar.gz"
   ]
  },
  {
   "cell_type": "code",
   "execution_count": null,
   "metadata": {},
   "outputs": [],
   "source": [
    "import os\n",
    "from subprocess import Popen, PIPE, STDOUT"
   ]
  },
  {
   "cell_type": "code",
   "execution_count": null,
   "metadata": {
    "scrolled": true,
    "tags": []
   },
   "outputs": [],
   "source": [
    "# Run Elasticsearch as a background process\n",
    "!sudo chown -R daemon:daemon elasticsearch-7.9.2"
   ]
  },
  {
   "cell_type": "code",
   "execution_count": null,
   "metadata": {
    "scrolled": true,
    "tags": []
   },
   "outputs": [],
   "source": [
    "# es_server = Popen(args=['elasticsearch-7.9.2/bin/elasticsearch'],\n",
    "#                   stdout=PIPE, stderr=STDOUT, preexec_fn=lambda: os.setuid(1))\n",
    "# # Wait until Elasticsearch has started\n",
    "# !sleep 30"
   ]
  },
  {
   "cell_type": "code",
   "execution_count": null,
   "metadata": {},
   "outputs": [],
   "source": [
    "# #hide\n",
    "# # Alternative if Docker is installed\n",
    "# from haystack.utils import launch_es\n",
    "\n",
    "# launch_es()"
   ]
  },
  {
   "cell_type": "code",
   "execution_count": 43,
   "metadata": {},
   "outputs": [
    {
     "name": "stdout",
     "output_type": "stream",
     "text": [
      "{\n",
      "  \"name\" : \"small-instance\",\n",
      "  \"cluster_name\" : \"elasticsearch\",\n",
      "  \"cluster_uuid\" : \"WFjAb331SSyW8qIVHa4jDA\",\n",
      "  \"version\" : {\n",
      "    \"number\" : \"7.9.2\",\n",
      "    \"build_flavor\" : \"default\",\n",
      "    \"build_type\" : \"tar\",\n",
      "    \"build_hash\" : \"d34da0ea4a966c4e49417f2da2f244e3e97b4e6e\",\n",
      "    \"build_date\" : \"2020-09-23T00:45:33.626720Z\",\n",
      "    \"build_snapshot\" : false,\n",
      "    \"lucene_version\" : \"8.6.2\",\n",
      "    \"minimum_wire_compatibility_version\" : \"6.8.0\",\n",
      "    \"minimum_index_compatibility_version\" : \"6.0.0-beta1\"\n",
      "  },\n",
      "  \"tagline\" : \"You Know, for Search\"\n",
      "}\n"
     ]
    }
   ],
   "source": [
    "!curl -X GET \"localhost:9200/?pretty\""
   ]
  },
  {
   "cell_type": "code",
   "execution_count": 45,
   "metadata": {},
   "outputs": [],
   "source": [
    "from haystack.document_store.elasticsearch import ElasticsearchDocumentStore\n",
    "\n",
    "# Return the document embedding for later use with dense retriever \n",
    "document_store = ElasticsearchDocumentStore(return_embedding=True)"
   ]
  },
  {
   "cell_type": "code",
   "execution_count": 46,
   "metadata": {},
   "outputs": [],
   "source": [
    "#hide\n",
    "# It's a good idea to flush Elasticsearch with each notebook restart\n",
    "if len(document_store.get_all_documents()) or len(document_store.get_all_labels()) > 0:\n",
    "    document_store.delete_documents(\"document\")\n",
    "    document_store.delete_documents(\"label\")"
   ]
  },
  {
   "cell_type": "code",
   "execution_count": 47,
   "metadata": {},
   "outputs": [
    {
     "name": "stdout",
     "output_type": "stream",
     "text": [
      "Loaded 1615 documents\n"
     ]
    }
   ],
   "source": [
    "for split, df in dfs.items():\n",
    "    # Exclude duplicate reviews\n",
    "    docs = [{\"text\": row[\"context\"], \n",
    "             \"meta\":{\"item_id\": row[\"title\"], \"question_id\": row[\"id\"], \n",
    "                     \"split\": split}} \n",
    "        for _,row in df.drop_duplicates(subset=\"context\").iterrows()]\n",
    "    document_store.write_documents(docs, index=\"document\")\n",
    "    \n",
    "print(f\"Loaded {document_store.get_document_count()} documents\")"
   ]
  },
  {
   "cell_type": "markdown",
   "metadata": {},
   "source": [
    "#### Initializing a retriever"
   ]
  },
  {
   "cell_type": "code",
   "execution_count": 48,
   "metadata": {},
   "outputs": [],
   "source": [
    "from haystack.retriever.sparse import ElasticsearchRetriever\n",
    "\n",
    "es_retriever = ElasticsearchRetriever(document_store=document_store)"
   ]
  },
  {
   "cell_type": "code",
   "execution_count": 49,
   "metadata": {},
   "outputs": [],
   "source": [
    "item_id = \"B0074BW614\"\n",
    "query = \"Is it good for reading?\"\n",
    "retrieved_docs = es_retriever.retrieve(\n",
    "    query=query, top_k=3, filters={\"item_id\":[item_id], \"split\":[\"train\"]})"
   ]
  },
  {
   "cell_type": "code",
   "execution_count": 50,
   "metadata": {},
   "outputs": [
    {
     "name": "stdout",
     "output_type": "stream",
     "text": [
      "{'text': 'This is a gift to myself.  I have been a kindle user for 4 years and this is my third one.  I never thought I would want a fire for I mainly use it for book reading.  I decided to try the fire for when I travel I take my laptop, my phone and my iPod classic.  I love my iPod but watching movies on the plane with it can be challenging because it is so small. Laptops battery life is not as good as the Kindle.  So the Fire combines for me what I needed all three to do. So far so good.', 'score': 6.243799, 'probability': 0.6857824513476455, 'question': None, 'meta': {'item_id': 'B0074BW614', 'question_id': '868e311275e26dbafe5af70774a300f3', 'split': 'train'}, 'embedding': None, 'id': '252e83e25d52df7311d597dc89eef9f6'}\n"
     ]
    }
   ],
   "source": [
    "print(retrieved_docs[0])"
   ]
  },
  {
   "cell_type": "markdown",
   "metadata": {},
   "source": [
    "#### Initializing a reader"
   ]
  },
  {
   "cell_type": "code",
   "execution_count": 51,
   "metadata": {},
   "outputs": [
    {
     "name": "stderr",
     "output_type": "stream",
     "text": [
      "07/20/2022 14:32:15 - INFO - farm.utils -   Using device: CUDA \n",
      "07/20/2022 14:32:15 - INFO - farm.utils -   Number of GPUs: 1\n",
      "07/20/2022 14:32:15 - INFO - farm.utils -   Distributed Training: False\n",
      "07/20/2022 14:32:15 - INFO - farm.utils -   Automatic Mixed Precision: None\n",
      "Some weights of the model checkpoint at deepset/minilm-uncased-squad2 were not used when initializing BertModel: ['qa_outputs.bias', 'qa_outputs.weight']\n",
      "- This IS expected if you are initializing BertModel from the checkpoint of a model trained on another task or with another architecture (e.g. initializing a BertForSequenceClassification model from a BertForPreTraining model).\n",
      "- This IS NOT expected if you are initializing BertModel from the checkpoint of a model that you expect to be exactly identical (initializing a BertForSequenceClassification model from a BertForSequenceClassification model).\n",
      "07/20/2022 14:32:46 - WARNING - farm.utils -   ML Logging is turned off. No parameters, metrics or artifacts will be logged to MLFlow.\n",
      "07/20/2022 14:32:46 - INFO - farm.utils -   Using device: CUDA \n",
      "07/20/2022 14:32:46 - INFO - farm.utils -   Number of GPUs: 1\n",
      "07/20/2022 14:32:46 - INFO - farm.utils -   Distributed Training: False\n",
      "07/20/2022 14:32:46 - INFO - farm.utils -   Automatic Mixed Precision: None\n",
      "07/20/2022 14:32:47 - INFO - farm.infer -   Got ya 2 parallel workers to do inference ...\n",
      "07/20/2022 14:32:47 - INFO - farm.infer -    0    0 \n",
      "07/20/2022 14:32:47 - INFO - farm.infer -   /w\\  /w\\\n",
      "07/20/2022 14:32:47 - INFO - farm.infer -   /'\\  / \\\n",
      "07/20/2022 14:32:47 - INFO - farm.infer -     \n",
      "Process ForkPoolWorker-2:\n",
      "Process ForkPoolWorker-1:\n",
      "Traceback (most recent call last):\n",
      "Traceback (most recent call last):\n",
      "  File \"/home/andreas/miniconda3/lib/python3.9/multiprocessing/process.py\", line 315, in _bootstrap\n",
      "    self.run()\n",
      "  File \"/home/andreas/miniconda3/lib/python3.9/multiprocessing/process.py\", line 315, in _bootstrap\n",
      "    self.run()\n",
      "  File \"/home/andreas/miniconda3/lib/python3.9/multiprocessing/process.py\", line 108, in run\n",
      "    self._target(*self._args, **self._kwargs)\n",
      "  File \"/home/andreas/miniconda3/lib/python3.9/multiprocessing/process.py\", line 108, in run\n",
      "    self._target(*self._args, **self._kwargs)\n",
      "  File \"/home/andreas/miniconda3/lib/python3.9/multiprocessing/pool.py\", line 114, in worker\n",
      "    task = get()\n",
      "  File \"/home/andreas/miniconda3/lib/python3.9/multiprocessing/pool.py\", line 114, in worker\n",
      "    task = get()\n",
      "  File \"/home/andreas/miniconda3/lib/python3.9/multiprocessing/queues.py\", line 366, in get\n",
      "    res = self._reader.recv_bytes()\n",
      "  File \"/home/andreas/miniconda3/lib/python3.9/multiprocessing/connection.py\", line 221, in recv_bytes\n",
      "    buf = self._recv_bytes(maxlength)\n",
      "  File \"/home/andreas/miniconda3/lib/python3.9/multiprocessing/queues.py\", line 365, in get\n",
      "    with self._rlock:\n",
      "  File \"/home/andreas/miniconda3/lib/python3.9/multiprocessing/synchronize.py\", line 95, in __enter__\n",
      "    return self._semlock.__enter__()\n",
      "KeyboardInterrupt\n",
      "  File \"/home/andreas/miniconda3/lib/python3.9/multiprocessing/connection.py\", line 419, in _recv_bytes\n",
      "    buf = self._recv(4)\n",
      "  File \"/home/andreas/miniconda3/lib/python3.9/multiprocessing/connection.py\", line 384, in _recv\n",
      "    chunk = read(handle, remaining)\n",
      "KeyboardInterrupt\n"
     ]
    }
   ],
   "source": [
    "#hide_output\n",
    "from haystack.reader.farm import FARMReader\n",
    "\n",
    "model_ckpt = \"deepset/minilm-uncased-squad2\"\n",
    "max_seq_length, doc_stride = 384, 128\n",
    "reader = FARMReader(model_name_or_path=model_ckpt, progress_bar=False,\n",
    "                    max_seq_len=max_seq_length, doc_stride=doc_stride, \n",
    "                    return_no_answer=True)"
   ]
  },
  {
   "cell_type": "code",
   "execution_count": 52,
   "metadata": {},
   "outputs": [
    {
     "name": "stdout",
     "output_type": "stream",
     "text": [
      "{'query': 'How much music can this hold?', 'no_ans_gap': 12.648091912269592, 'answers': [{'answer': '6000 hours', 'score': 10.699626922607422, 'probability': 0.3988151550292969, 'context': 'An MP3 is about 1 MB/minute, so about 6000 hours depending on file size.', 'offset_start': 38, 'offset_end': 48, 'offset_start_in_doc': 38, 'offset_end_in_doc': 48, 'document_id': 'e344757014e804eff50faa3ecf1c9c75'}]}\n"
     ]
    },
    {
     "name": "stderr",
     "output_type": "stream",
     "text": [
      "/home/andreas/miniconda3/lib/python3.9/site-packages/farm/modeling/prediction_head.py:1167: UserWarning: __floordiv__ is deprecated, and its behavior will change in a future version of pytorch. It currently rounds toward 0 (like the 'trunc' function NOT 'floor'). This results in incorrect rounding for negative values. To keep the current behavior, use torch.div(a, b, rounding_mode='trunc'), or for actual floor division, use torch.div(a, b, rounding_mode='floor').\n",
      "  start_indices = flat_sorted_indices // max_seq_len\n"
     ]
    }
   ],
   "source": [
    "print(reader.predict_on_texts(question=question, texts=[context], top_k=1))"
   ]
  },
  {
   "cell_type": "markdown",
   "metadata": {},
   "source": [
    "#### Putting it all together"
   ]
  },
  {
   "cell_type": "code",
   "execution_count": 53,
   "metadata": {},
   "outputs": [],
   "source": [
    "from haystack.pipeline import ExtractiveQAPipeline\n",
    "\n",
    "pipe = ExtractiveQAPipeline(reader, es_retriever)"
   ]
  },
  {
   "cell_type": "code",
   "execution_count": 54,
   "metadata": {},
   "outputs": [
    {
     "name": "stdout",
     "output_type": "stream",
     "text": [
      "Question: Is it good for reading? \n",
      "\n",
      "Answer 1: I mainly use it for book reading\n",
      "Review snippet: ... is my third one.  I never thought I would want a fire for I mainly use it for book reading.  I decided to try the fire for when I travel I take my la...\n",
      "\n",
      "\n",
      "\n",
      "Answer 2: the larger screen compared to the Kindle makes for easier reading\n",
      "Review snippet: ...ght enough that I can hold it to read, but the larger screen compared to the Kindle makes for easier reading. I love the color, something I never thou...\n",
      "\n",
      "\n",
      "\n",
      "Answer 3: it is great for reading books when no light is available\n",
      "Review snippet: ...ecoming addicted to hers! Our son LOVES it and it is great for reading books when no light is available. Amazing sound but I suggest good headphones t...\n",
      "\n",
      "\n",
      "\n"
     ]
    }
   ],
   "source": [
    "n_answers = 3\n",
    "preds = pipe.run(query=query, top_k_retriever=3, top_k_reader=n_answers,\n",
    "                 filters={\"item_id\": [item_id], \"split\":[\"train\"]})\n",
    "\n",
    "print(f\"Question: {preds['query']} \\n\")\n",
    "for idx in range(n_answers):\n",
    "    print(f\"Answer {idx+1}: {preds['answers'][idx]['answer']}\")\n",
    "    print(f\"Review snippet: ...{preds['answers'][idx]['context']}...\")\n",
    "    print(\"\\n\\n\")"
   ]
  },
  {
   "cell_type": "markdown",
   "metadata": {},
   "source": [
    "## Improving Our QA Pipeline"
   ]
  },
  {
   "cell_type": "markdown",
   "metadata": {},
   "source": [
    "### Evaluating the Retriever"
   ]
  },
  {
   "cell_type": "code",
   "execution_count": 55,
   "metadata": {},
   "outputs": [],
   "source": [
    "from haystack.pipeline import Pipeline\n",
    "from haystack.eval import EvalDocuments"
   ]
  },
  {
   "cell_type": "code",
   "execution_count": 56,
   "metadata": {},
   "outputs": [],
   "source": [
    "class EvalRetrieverPipeline:\n",
    "    def __init__(self, retriever):\n",
    "        self.retriever = retriever\n",
    "        self.eval_retriever = EvalDocuments()\n",
    "        pipe = Pipeline()\n",
    "        pipe.add_node(component=self.retriever, name=\"ESRetriever\", \n",
    "                      inputs=[\"Query\"])\n",
    "        pipe.add_node(component=self.eval_retriever, name=\"EvalRetriever\", \n",
    "                      inputs=[\"ESRetriever\"])\n",
    "        self.pipeline = pipe"
   ]
  },
  {
   "cell_type": "code",
   "execution_count": 57,
   "metadata": {},
   "outputs": [],
   "source": [
    "pipe = EvalRetrieverPipeline(es_retriever)"
   ]
  },
  {
   "cell_type": "code",
   "execution_count": 58,
   "metadata": {},
   "outputs": [],
   "source": [
    "from haystack import Label"
   ]
  },
  {
   "cell_type": "code",
   "execution_count": 59,
   "metadata": {},
   "outputs": [],
   "source": [
    "labels = []\n",
    "for i, row in dfs[\"test\"].iterrows():\n",
    "    # Metadata used for filtering in the Retriever\n",
    "    meta = {\"item_id\": row[\"title\"], \"question_id\": row[\"id\"]}\n",
    "    # Populate labels for questions with answers\n",
    "    if len(row[\"answers.text\"]):\n",
    "        for answer in row[\"answers.text\"]:\n",
    "            label = Label(\n",
    "                question=row[\"question\"], answer=answer, id=i, origin=row[\"id\"],\n",
    "                meta=meta, is_correct_answer=True, is_correct_document=True,\n",
    "                no_answer=False)\n",
    "            labels.append(label)\n",
    "    # Populate labels for questions without answers\n",
    "    else:\n",
    "        label = Label(\n",
    "            question=row[\"question\"], answer=\"\", id=i, origin=row[\"id\"],\n",
    "            meta=meta, is_correct_answer=True, is_correct_document=True,\n",
    "            no_answer=True)  \n",
    "        labels.append(label)"
   ]
  },
  {
   "cell_type": "code",
   "execution_count": 60,
   "metadata": {},
   "outputs": [
    {
     "name": "stdout",
     "output_type": "stream",
     "text": [
      "{'id': 'e816b1cd-52a4-4cd2-b9d7-abcec109cdf3', 'created_at': None, 'updated_at': None, 'question': 'What is the tonal balance of these headphones?', 'answer': 'I have been a headphone fanatic for thirty years', 'is_correct_answer': True, 'is_correct_document': True, 'origin': 'd0781d13200014aa25860e44da9d5ea7', 'document_id': None, 'offset_start_in_doc': None, 'no_answer': False, 'model_id': None, 'meta': {'item_id': 'B00001WRSJ', 'question_id': 'd0781d13200014aa25860e44da9d5ea7'}}\n"
     ]
    }
   ],
   "source": [
    "print(labels[0])"
   ]
  },
  {
   "cell_type": "code",
   "execution_count": 61,
   "metadata": {},
   "outputs": [
    {
     "name": "stdout",
     "output_type": "stream",
     "text": [
      "Loaded 358 question-answer pairs\n"
     ]
    }
   ],
   "source": [
    "document_store.write_labels(labels, index=\"label\")\n",
    "print(f\"\"\"Loaded {document_store.get_label_count(index=\"label\")} \\\n",
    "question-answer pairs\"\"\")"
   ]
  },
  {
   "cell_type": "code",
   "execution_count": 62,
   "metadata": {},
   "outputs": [
    {
     "name": "stdout",
     "output_type": "stream",
     "text": [
      "330\n"
     ]
    }
   ],
   "source": [
    "labels_agg = document_store.get_all_labels_aggregated(\n",
    "    index=\"label\",\n",
    "    open_domain=True,\n",
    "    aggregate_by_meta=[\"item_id\"]\n",
    ")\n",
    "print(len(labels_agg))"
   ]
  },
  {
   "cell_type": "code",
   "execution_count": 63,
   "metadata": {},
   "outputs": [
    {
     "name": "stdout",
     "output_type": "stream",
     "text": [
      "{'question': 'How does the fan work?', 'multiple_answers': [\"the fan itself isn't super loud. There is an adjustable dial to change fan speed\", 'the fan is really really good'], 'is_correct_answer': True, 'is_correct_document': True, 'origin': 'f20dae56410f31632d6a9f8f8284657a', 'multiple_document_ids': [None, None], 'multiple_offset_start_in_docs': [None, None], 'no_answer': False, 'model_id': None, 'meta': {'item_id': 'B002MU1ZRS'}}\n"
     ]
    }
   ],
   "source": [
    "print(labels_agg[109])"
   ]
  },
  {
   "cell_type": "code",
   "execution_count": 64,
   "metadata": {},
   "outputs": [],
   "source": [
    "def run_pipeline(pipeline, top_k_retriever=10, top_k_reader=4):\n",
    "    for l in labels_agg:\n",
    "        _ = pipeline.pipeline.run(\n",
    "            query=l.question,\n",
    "            top_k_retriever=top_k_retriever,\n",
    "            top_k_reader=top_k_reader,\n",
    "            top_k_eval_documents=top_k_retriever,    \n",
    "            labels=l,\n",
    "            filters={\"item_id\": [l.meta[\"item_id\"]], \"split\": [\"test\"]})"
   ]
  },
  {
   "cell_type": "code",
   "execution_count": 65,
   "metadata": {},
   "outputs": [
    {
     "name": "stdout",
     "output_type": "stream",
     "text": [
      "Recall@3: 0.95\n"
     ]
    }
   ],
   "source": [
    "run_pipeline(pipe, top_k_retriever=3)\n",
    "print(f\"Recall@3: {pipe.eval_retriever.recall:.2f}\")"
   ]
  },
  {
   "cell_type": "code",
   "execution_count": 66,
   "metadata": {},
   "outputs": [],
   "source": [
    "#hide_output\n",
    "def evaluate_retriever(retriever, topk_values = [1,3,5,10,20]):\n",
    "    topk_results = {}\n",
    "\n",
    "    for topk in topk_values:\n",
    "        # Create Pipeline\n",
    "        p = EvalRetrieverPipeline(retriever)\n",
    "        # Loop over each question-answers pair in test set\n",
    "        run_pipeline(p, top_k_retriever=topk)\n",
    "        # Get metrics\n",
    "        topk_results[topk] = {\"recall\": p.eval_retriever.recall}\n",
    "        \n",
    "    return pd.DataFrame.from_dict(topk_results, orient=\"index\")\n",
    "\n",
    "\n",
    "es_topk_df = evaluate_retriever(es_retriever)"
   ]
  },
  {
   "cell_type": "code",
   "execution_count": 67,
   "metadata": {},
   "outputs": [
    {
     "data": {
      "image/png": "[encoded data removed]",
      "text/plain": [
       "<Figure size 432x288 with 1 Axes>"
      ]
     },
     "metadata": {
      "needs_background": "light"
     },
     "output_type": "display_data"
    }
   ],
   "source": [
    "def plot_retriever_eval(dfs, retriever_names):\n",
    "    fig, ax = plt.subplots()\n",
    "    for df, retriever_name in zip(dfs, retriever_names):\n",
    "        df.plot(y=\"recall\", ax=ax, label=retriever_name)\n",
    "    plt.xticks(df.index)\n",
    "    plt.ylabel(\"Top-k Recall\")\n",
    "    plt.xlabel(\"k\")\n",
    "    plt.show()\n",
    "    \n",
    "plot_retriever_eval([es_topk_df], [\"BM25\"])"
   ]
  },
  {
   "cell_type": "markdown",
   "metadata": {},
   "source": [
    "#### Dense Passage Retrieval"
   ]
  },
  {
   "cell_type": "markdown",
   "metadata": {},
   "source": [
    "<img alt=\"DPR Architecture\" caption=\"DPR's bi-encoder architecture for computing the relevance of a document and query\" src=\"images/chapter07_dpr.png\" id=\"dpr\"/>"
   ]
  },
  {
   "cell_type": "code",
   "execution_count": 68,
   "metadata": {},
   "outputs": [
    {
     "data": {
      "application/vnd.jupyter.widget-view+json": {
       "model_id": "12bdfd5a2f7b4e4282909ef4ef4ba2af",
       "version_major": 2,
       "version_minor": 0
      },
      "text/plain": [
       "Downloading:   0%|          | 0.00/232k [00:00<?, ?B/s]"
      ]
     },
     "metadata": {},
     "output_type": "display_data"
    },
    {
     "data": {
      "application/vnd.jupyter.widget-view+json": {
       "model_id": "153510ace802486bb7ce4006053621ca",
       "version_major": 2,
       "version_minor": 0
      },
      "text/plain": [
       "Downloading:   0%|          | 0.00/466k [00:00<?, ?B/s]"
      ]
     },
     "metadata": {},
     "output_type": "display_data"
    },
    {
     "data": {
      "application/vnd.jupyter.widget-view+json": {
       "model_id": "575895142a2e46baa7729e9fc451d65d",
       "version_major": 2,
       "version_minor": 0
      },
      "text/plain": [
       "Downloading:   0%|          | 0.00/28.0 [00:00<?, ?B/s]"
      ]
     },
     "metadata": {},
     "output_type": "display_data"
    },
    {
     "data": {
      "application/vnd.jupyter.widget-view+json": {
       "model_id": "892179ed01914357ae26ba6028eabac6",
       "version_major": 2,
       "version_minor": 0
      },
      "text/plain": [
       "Downloading:   0%|          | 0.00/493 [00:00<?, ?B/s]"
      ]
     },
     "metadata": {},
     "output_type": "display_data"
    },
    {
     "data": {
      "application/vnd.jupyter.widget-view+json": {
       "model_id": "8b4d09f9473d4df6b6eaa8f8de16cdf7",
       "version_major": 2,
       "version_minor": 0
      },
      "text/plain": [
       "Downloading:   0%|          | 0.00/438M [00:00<?, ?B/s]"
      ]
     },
     "metadata": {},
     "output_type": "display_data"
    },
    {
     "data": {
      "application/vnd.jupyter.widget-view+json": {
       "model_id": "b1896b09f24f43439bf868a893b233b7",
       "version_major": 2,
       "version_minor": 0
      },
      "text/plain": [
       "Downloading:   0%|          | 0.00/232k [00:00<?, ?B/s]"
      ]
     },
     "metadata": {},
     "output_type": "display_data"
    },
    {
     "data": {
      "application/vnd.jupyter.widget-view+json": {
       "model_id": "8c585cb167e64a288c8eb0f236ea770f",
       "version_major": 2,
       "version_minor": 0
      },
      "text/plain": [
       "Downloading:   0%|          | 0.00/466k [00:00<?, ?B/s]"
      ]
     },
     "metadata": {},
     "output_type": "display_data"
    },
    {
     "data": {
      "application/vnd.jupyter.widget-view+json": {
       "model_id": "5ac1bbe5e21a4d8b9f9641751924fc13",
       "version_major": 2,
       "version_minor": 0
      },
      "text/plain": [
       "Downloading:   0%|          | 0.00/28.0 [00:00<?, ?B/s]"
      ]
     },
     "metadata": {},
     "output_type": "display_data"
    },
    {
     "data": {
      "application/vnd.jupyter.widget-view+json": {
       "model_id": "d0221f2788074aeb99202e85dbbd299d",
       "version_major": 2,
       "version_minor": 0
      },
      "text/plain": [
       "Downloading:   0%|          | 0.00/492 [00:00<?, ?B/s]"
      ]
     },
     "metadata": {},
     "output_type": "display_data"
    },
    {
     "data": {
      "application/vnd.jupyter.widget-view+json": {
       "model_id": "485943e29e714edfaa518f53c898a37c",
       "version_major": 2,
       "version_minor": 0
      },
      "text/plain": [
       "Downloading:   0%|          | 0.00/438M [00:00<?, ?B/s]"
      ]
     },
     "metadata": {},
     "output_type": "display_data"
    }
   ],
   "source": [
    "#hide_output\n",
    "from haystack.retriever.dense import DensePassageRetriever\n",
    "\n",
    "dpr_retriever = DensePassageRetriever(document_store=document_store,\n",
    "    query_embedding_model=\"facebook/dpr-question_encoder-single-nq-base\",\n",
    "    passage_embedding_model=\"facebook/dpr-ctx_encoder-single-nq-base\",\n",
    "    embed_title=False)"
   ]
  },
  {
   "cell_type": "code",
   "execution_count": 69,
   "metadata": {},
   "outputs": [
    {
     "name": "stderr",
     "output_type": "stream",
     "text": [
      "07/20/2022 14:42:28 - INFO - haystack.document_store.elasticsearch -   Updating embeddings for all 1615 docs ...\n"
     ]
    },
    {
     "data": {
      "application/vnd.jupyter.widget-view+json": {
       "model_id": "894b763a552e421da58b012e19e09a30",
       "version_major": 2,
       "version_minor": 0
      },
      "text/plain": [
       "Updating embeddings:   0%|          | 0/1615 [00:00<?, ? Docs/s]"
      ]
     },
     "metadata": {},
     "output_type": "display_data"
    },
    {
     "data": {
      "application/vnd.jupyter.widget-view+json": {
       "model_id": "",
       "version_major": 2,
       "version_minor": 0
      },
      "text/plain": [
       "Create embeddings:   0%|          | 0/1616 [00:00<?, ? Docs/s]"
      ]
     },
     "metadata": {},
     "output_type": "display_data"
    }
   ],
   "source": [
    "#hide_output\n",
    "document_store.update_embeddings(retriever=dpr_retriever)"
   ]
  },
  {
   "cell_type": "code",
   "execution_count": 70,
   "metadata": {},
   "outputs": [
    {
     "data": {
      "image/png": "[encoded data removed]",
      "text/plain": [
       "<Figure size 432x288 with 1 Axes>"
      ]
     },
     "metadata": {
      "needs_background": "light"
     },
     "output_type": "display_data"
    }
   ],
   "source": [
    "dpr_topk_df = evaluate_retriever(dpr_retriever)\n",
    "plot_retriever_eval([es_topk_df, dpr_topk_df], [\"BM25\", \"DPR\"])"
   ]
  },
  {
   "cell_type": "markdown",
   "metadata": {},
   "source": [
    "### Evaluating the Reader"
   ]
  },
  {
   "cell_type": "code",
   "execution_count": 71,
   "metadata": {},
   "outputs": [],
   "source": [
    "from farm.evaluation.squad_evaluation import compute_f1, compute_exact"
   ]
  },
  {
   "cell_type": "code",
   "execution_count": 72,
   "metadata": {},
   "outputs": [
    {
     "name": "stdout",
     "output_type": "stream",
     "text": [
      "EM: 0\n",
      "F1: 0.8\n"
     ]
    }
   ],
   "source": [
    "pred = \"about 6000 hours\"\n",
    "label = \"6000 hours\"\n",
    "print(f\"EM: {compute_exact(label, pred)}\")\n",
    "print(f\"F1: {compute_f1(label, pred)}\")"
   ]
  },
  {
   "cell_type": "code",
   "execution_count": 73,
   "metadata": {},
   "outputs": [
    {
     "name": "stdout",
     "output_type": "stream",
     "text": [
      "EM: 0\n",
      "F1: 0.4\n"
     ]
    }
   ],
   "source": [
    "pred = \"about 6000 dollars\"\n",
    "print(f\"EM: {compute_exact(label, pred)}\")\n",
    "print(f\"F1: {compute_f1(label, pred)}\")"
   ]
  },
  {
   "cell_type": "code",
   "execution_count": 74,
   "metadata": {},
   "outputs": [],
   "source": [
    "#hide_output\n",
    "from haystack.eval import EvalAnswers"
   ]
  },
  {
   "cell_type": "code",
   "execution_count": 75,
   "metadata": {},
   "outputs": [],
   "source": [
    "def evaluate_reader(reader):\n",
    "    score_keys = ['top_1_em', 'top_1_f1']\n",
    "    eval_reader = EvalAnswers(skip_incorrect_retrieval=False)\n",
    "    pipe = Pipeline()\n",
    "    pipe.add_node(component=reader, name=\"QAReader\", inputs=[\"Query\"])\n",
    "    pipe.add_node(component=eval_reader, name=\"EvalReader\", inputs=[\"QAReader\"])\n",
    "\n",
    "    for l in labels_agg:\n",
    "        doc = document_store.query(l.question, \n",
    "                                   filters={\"question_id\":[l.origin]})\n",
    "        _ = pipe.run(query=l.question, documents=doc, labels=l)\n",
    "                \n",
    "    return {k:v for k,v in eval_reader.__dict__.items() if k in score_keys}"
   ]
  },
  {
   "cell_type": "code",
   "execution_count": 76,
   "metadata": {},
   "outputs": [],
   "source": [
    "reader_eval = {}\n",
    "reader_eval[\"Fine-tune on SQuAD\"] = evaluate_reader(reader)"
   ]
  },
  {
   "cell_type": "code",
   "execution_count": 77,
   "metadata": {},
   "outputs": [
    {
     "data": {
      "image/png": "[encoded data removed]",
      "text/plain": [
       "<Figure size 432x288 with 1 Axes>"
      ]
     },
     "metadata": {
      "needs_background": "light"
     },
     "output_type": "display_data"
    }
   ],
   "source": [
    "def plot_reader_eval(reader_eval):\n",
    "    fig, ax = plt.subplots()\n",
    "    df = pd.DataFrame.from_dict(reader_eval)\n",
    "    df.plot(kind=\"bar\", ylabel=\"Score\", rot=0, ax=ax)\n",
    "    ax.set_xticklabels([\"EM\", \"F1\"])\n",
    "    plt.legend(loc='upper left')\n",
    "    plt.show()\n",
    "\n",
    "plot_reader_eval(reader_eval)"
   ]
  },
  {
   "cell_type": "markdown",
   "metadata": {},
   "source": [
    "### Domain Adaptation"
   ]
  },
  {
   "cell_type": "markdown",
   "metadata": {},
   "source": [
    "<img alt=\"SQuAD Schema\" caption=\"Visualization of the SQuAD JSON format\" src=\"images/chapter07_squad-schema.png\" id=\"squad-schema\"/>"
   ]
  },
  {
   "cell_type": "code",
   "execution_count": 78,
   "metadata": {},
   "outputs": [],
   "source": [
    "def create_paragraphs(df):\n",
    "    paragraphs = []\n",
    "    id2context = dict(zip(df[\"review_id\"], df[\"context\"]))\n",
    "    for review_id, review in id2context.items():\n",
    "        qas = []\n",
    "        # Filter for all question-answer pairs about a specific context\n",
    "        review_df = df.query(f\"review_id == '{review_id}'\")\n",
    "        id2question = dict(zip(review_df[\"id\"], review_df[\"question\"]))\n",
    "        # Build up the qas array\n",
    "        for qid, question in id2question.items():\n",
    "            # Filter for a single question ID\n",
    "            question_df = df.query(f\"id == '{qid}'\").to_dict(orient=\"list\")\n",
    "            ans_start_idxs = question_df[\"answers.answer_start\"][0].tolist()\n",
    "            ans_text = question_df[\"answers.text\"][0].tolist()\n",
    "            # Fill answerable questions\n",
    "            if len(ans_start_idxs):\n",
    "                answers = [\n",
    "                    {\"text\": text, \"answer_start\": answer_start}\n",
    "                    for text, answer_start in zip(ans_text, ans_start_idxs)]\n",
    "                is_impossible = False\n",
    "            else:\n",
    "                answers = []\n",
    "                is_impossible = True\n",
    "            # Add question-answer pairs to qas\n",
    "            qas.append({\"question\": question, \"id\": qid, \n",
    "                        \"is_impossible\": is_impossible, \"answers\": answers})\n",
    "        # Add context and question-answer pairs to paragraphs\n",
    "        paragraphs.append({\"qas\": qas, \"context\": review})\n",
    "    return paragraphs"
   ]
  },
  {
   "cell_type": "code",
   "execution_count": 79,
   "metadata": {
    "scrolled": true,
    "tags": []
   },
   "outputs": [
    {
     "data": {
      "text/plain": [
       "[{'qas': [{'question': 'How is the bass?',\n",
       "    'id': '2543d296da9766d8d17d040ecc781699',\n",
       "    'is_impossible': True,\n",
       "    'answers': []}],\n",
       "  'context': 'I have had Koss headphones in the past, Pro 4AA and QZ-99.  The Koss Portapro is portable AND has great bass response.  The work great with my Android phone and can be \"rolled up\" to be carried in my motorcycle jacket or computer bag without getting crunched.  They are very light and do not feel heavy or bear down on your ears even after listening to music with them on all day.  The sound is night and day better than any ear-bud could be and are almost as good as the Pro 4AA.  They are \"open air\" headphones so you cannot match the bass to the sealed types, but it comes close. For $32, you cannot go wrong.'},\n",
       " {'qas': [{'question': 'Is this music song have a goo bass?',\n",
       "    'id': 'd476830bf9282e2b9033e2bb44bbb995',\n",
       "    'is_impossible': False,\n",
       "    'answers': [{'text': 'Bass is weak as expected', 'answer_start': 1302},\n",
       "     {'text': 'Bass is weak as expected, even with EQ adjusted up',\n",
       "      'answer_start': 1302}]}],\n",
       "  'context': 'To anyone who hasn\\'t tried all the various types of headphones, it is important to remember exactly what these are: cheap portable on-ear headphones. They give a totally different sound then in-ears or closed design phones, but for what they are I would say they\\'re good. I currently own six pairs of phones, from stock apple earbuds to Sennheiser HD 518s. Gave my Portapros a run on both my computer\\'s sound card and mp3 player, using 256 kbps mp3s or better. The clarity is good and they\\'re very lightweight. The folding design is simple but effective. The look is certainly retro and unique, although I didn\\'t find it as comfortable as many have claimed. Earpads are *very* thin and made my ears sore after 30 minutes of listening, although this can be remedied to a point by adjusting the \"comfort zone\" feature (tightening the temple pads while loosening the ear pads). The cord seems to be an average thickness, but I wouldn\\'t get too rough with these. The steel headband adjusts smoothly and easily, just watch out that the slider doesn\\'t catch your hair. Despite the sore ears, the phones are very lightweight overall.Back to the sound: as you would expect, it\\'s good for a portable phone, but hardly earth shattering. At flat EQ the clarity is good, although the highs can sometimes be harsh. Bass is weak as expected, even with EQ adjusted up. To be fair, a portable on-ear would have a tough time comparing to the bass of an in-ear with a good seal or a pair with larger drivers. No sound isolation offered if you\\'re into that sort of thing. Cool 80s phones, though I\\'ve certainly owned better portable on-ears (Sony makes excellent phones in this category). Soundstage is very narrow and lacks body. A good value if you can get them for under thirty, otherwise I\\'d rather invest in a nicer pair of phones. If we\\'re talking about value, they\\'re a good buy compared to new stock apple buds. If you\\'re trying to compare the sound quality of this product to serious headphones, there\\'s really no comparison at all.Update: After 100 hours of burn-in time the sound has not been affected in any appreciable way. Highs are still harsh, and bass is still underwhelming. I sometimes use these as a convenience but they have been largely replaced in my collection.'},\n",
       " {'qas': [{'question': 'How is the bass?',\n",
       "    'id': '455575557886d6dfeea5aa19577e5de4',\n",
       "    'is_impossible': False,\n",
       "    'answers': [{'text': 'The only fault in the sound is the bass',\n",
       "      'answer_start': 650}]}],\n",
       "  'context': \"I have had many sub-$100 headphones from $5 Panasonic to $100 Sony, with Sennheiser HD 433, 202, PX100 II (I really wanted to like these PX100-II, they were so very well designed), and even a Grado SR60 for awhile.  And what it basically comes down to is value.  I have never heard sound as good as these headphones in the $35 range, easily the best under $75.  I can't believe they're over 25 years old.It's hard to describe how much detail these headphones bring out without making it too harsh or dull.  I listen to every type of music from classical to hip hop to electronic to country, and these headphones are suitable for all types of music.  The only fault in the sound is the bass.  It's just a *slight* bit boomy, but you get to like it after a while to be honest.The design is from the 80s as you all have probably figured out.  It could use a update but it seems like Koss has tried to perfect this formula and failed in the past.  I don't really care about the looks or the way it folds up or the fact that my hair gets caught up in it (I have very short hair, even for a male).But despite it's design flaws, it's the most comfortable headphones I have ever worn, and the best part is that it's also the best sounding pair of headphones I have ever heard under $75.If you can get over the design flaws or if sound is the most important feature of headphones for you, there is nothing even close to this at this price range.This one is an absolute GEM.  I loved these so much I ordered two of the 25th Anniversary ones for a bit more.Update: I read some reviews about the PX100-II being much improved and better sounding than the PortaPro.  Since the PX100-II is relatively new, I thought I'd give it another listen.  This time I noticed something different.  The sound is warm, mellow, and neutral, but it loses a lot of detail at the expense of these attributes.  I still prefer higher-detail Portapro, but some may prefer the more mellow sound of the PX100-II.Oh by the way the Portapro comes in the straight plug now, not the angled plug anymore.  It's supposed to be for better compatibility with the iPods and iPhones out there.\"}]"
      ]
     },
     "execution_count": 79,
     "metadata": {},
     "output_type": "execute_result"
    }
   ],
   "source": [
    "#hide_output\n",
    "product = dfs[\"train\"].query(\"title == 'B00001P4ZH'\")\n",
    "create_paragraphs(product)"
   ]
  },
  {
   "cell_type": "markdown",
   "metadata": {},
   "source": [
    "```python\n",
    "[{'qas': [{'question': 'How is the bass?',\n",
    "    'id': '2543d296da9766d8d17d040ecc781699',\n",
    "    'is_impossible': True,\n",
    "    'answers': []}],\n",
    "  'context': 'I have had Koss headphones ...',\n",
    "    'id': 'd476830bf9282e2b9033e2bb44bbb995',\n",
    "    'is_impossible': False,\n",
    "    'answers': [{'text': 'Bass is weak as expected', 'answer_start': 1302},\n",
    "     {'text': 'Bass is weak as expected, even with EQ adjusted up',\n",
    "      'answer_start': 1302}]}],\n",
    "  'context': 'To anyone who hasn\\'t tried all ...'},\n",
    " {'qas': [{'question': 'How is the bass?',\n",
    "    'id': '455575557886d6dfeea5aa19577e5de4',\n",
    "    'is_impossible': False,\n",
    "    'answers': [{'text': 'The only fault in the sound is the bass',\n",
    "      'answer_start': 650}]}],\n",
    "  'context': \"I have had many sub-$100 headphones ...\"}]\n",
    "```"
   ]
  },
  {
   "cell_type": "code",
   "execution_count": 80,
   "metadata": {},
   "outputs": [],
   "source": [
    "import json"
   ]
  },
  {
   "cell_type": "code",
   "execution_count": 81,
   "metadata": {},
   "outputs": [],
   "source": [
    "def convert_to_squad(dfs):\n",
    "    for split, df in dfs.items():\n",
    "        subjqa_data = {}\n",
    "        # Create `paragraphs` for each product ID\n",
    "        groups = (df.groupby(\"title\").apply(create_paragraphs)\n",
    "            .to_frame(name=\"paragraphs\").reset_index())\n",
    "        subjqa_data[\"data\"] = groups.to_dict(orient=\"records\")\n",
    "        # Save the result to disk\n",
    "        with open(f\"electronics-{split}.json\", \"w+\", encoding=\"utf-8\") as f:\n",
    "            json.dump(subjqa_data, f)\n",
    "            \n",
    "convert_to_squad(dfs)"
   ]
  },
  {
   "cell_type": "code",
   "execution_count": 84,
   "metadata": {
    "scrolled": true,
    "tags": []
   },
   "outputs": [
    {
     "name": "stderr",
     "output_type": "stream",
     "text": [
      "07/20/2022 15:00:59 - INFO - farm.utils -   Using device: CUDA \n",
      "07/20/2022 15:00:59 - INFO - farm.utils -   Number of GPUs: 1\n",
      "07/20/2022 15:00:59 - INFO - farm.utils -   Distributed Training: False\n",
      "07/20/2022 15:00:59 - INFO - farm.utils -   Automatic Mixed Precision: None\n",
      "Preprocessing Dataset electronics-train.json:   0%|          | 0/1265 [00:00<?, ? Dicts/s]07/20/2022 15:01:01 - WARNING - farm.data_handler.processor -   Answer using start/end indices is '  Operation of the menus and contro' while gold label text is 'Operation of the menus and controls'.\n",
      "Example will not be converted for training/evaluation.\n",
      "07/20/2022 15:01:01 - WARNING - farm.data_handler.processor -   Answer using start/end indices is '  This camera performs like the pros.  Fast accurate and easy to operat' while gold label text is 'This camera performs like the pros.  Fast accurate and easy to operated'.\n",
      "Example will not be converted for training/evaluation.\n",
      "Preprocessing Dataset electronics-train.json:  20%|██        | 253/1265 [00:02<00:09, 107.15 Dicts/s]\n",
      "07/20/2022 15:01:01 - ERROR - farm.data_handler.processor -   Unable to convert 2 samples to features. Their ids are : 595-0-0, 572-0-0\n",
      "Preprocessing Dataset electronics-validation.json:  20%|██        | 51/252 [00:00<00:01, 140.12 Dicts/s]\n",
      "07/20/2022 15:01:02 - ERROR - farm.data_handler.processor -   Unable to convert 2 samples to features. Their ids are : 595-0-0, 572-0-0\n",
      "07/20/2022 15:01:02 - INFO - farm.modeling.optimization -   Loading optimizer `TransformersAdamW`: '{'correct_bias': False, 'weight_decay': 0.01, 'lr': 1e-05}'\n",
      "07/20/2022 15:01:02 - INFO - farm.modeling.optimization -   Using scheduler 'get_linear_schedule_with_warmup'\n",
      "07/20/2022 15:01:02 - INFO - farm.modeling.optimization -   Loading schedule `get_linear_schedule_with_warmup`: '{'num_training_steps': 164, 'num_warmup_steps': 32}'\n",
      "07/20/2022 15:02:19 - INFO - haystack.reader.farm -   Saving reader model to /home/andreas/nlp-transformers-notebooks/haystack\n"
     ]
    }
   ],
   "source": [
    "#hide_output\n",
    "train_filename = \"electronics-train.json\"\n",
    "dev_filename = \"electronics-validation.json\"\n",
    "\n",
    "reader.train(data_dir=\".\", use_gpu=True, n_epochs=1, batch_size=16,\n",
    "             train_filename=train_filename, dev_filename=dev_filename, \n",
    "             save_dir='/home/andreas/nlp-transformers-notebooks/haystack')"
   ]
  },
  {
   "cell_type": "code",
   "execution_count": null,
   "metadata": {},
   "outputs": [],
   "source": [
    "reader_eval[\"Fine-tune on SQuAD + SubjQA\"] = evaluate_reader(reader)"
   ]
  },
  {
   "cell_type": "code",
   "execution_count": 87,
   "metadata": {},
   "outputs": [
    {
     "data": {
      "image/png": "[encoded data removed]",
      "text/plain": [
       "<Figure size 432x288 with 1 Axes>"
      ]
     },
     "metadata": {
      "needs_background": "light"
     },
     "output_type": "display_data"
    }
   ],
   "source": [
    "plot_reader_eval(reader_eval)"
   ]
  },
  {
   "cell_type": "code",
   "execution_count": 88,
   "metadata": {},
   "outputs": [
    {
     "name": "stderr",
     "output_type": "stream",
     "text": [
      "07/20/2022 15:29:20 - INFO - farm.utils -   Using device: CUDA \n",
      "07/20/2022 15:29:20 - INFO - farm.utils -   Number of GPUs: 1\n",
      "07/20/2022 15:29:20 - INFO - farm.utils -   Distributed Training: False\n",
      "07/20/2022 15:29:20 - INFO - farm.utils -   Automatic Mixed Precision: None\n"
     ]
    },
    {
     "data": {
      "application/vnd.jupyter.widget-view+json": {
       "model_id": "203540998c9949ecbfb521fac91accc9",
       "version_major": 2,
       "version_minor": 0
      },
      "text/plain": [
       "Downloading:   0%|          | 0.00/385 [00:00<?, ?B/s]"
      ]
     },
     "metadata": {},
     "output_type": "display_data"
    },
    {
     "data": {
      "application/vnd.jupyter.widget-view+json": {
       "model_id": "eb9d260e3784496dae3b86a10ba9b5be",
       "version_major": 2,
       "version_minor": 0
      },
      "text/plain": [
       "Downloading:   0%|          | 0.00/133M [00:00<?, ?B/s]"
      ]
     },
     "metadata": {},
     "output_type": "display_data"
    },
    {
     "name": "stderr",
     "output_type": "stream",
     "text": [
      "Some weights of BertForQuestionAnswering were not initialized from the model checkpoint at microsoft/MiniLM-L12-H384-uncased and are newly initialized: ['qa_outputs.bias', 'qa_outputs.weight']\n",
      "You should probably TRAIN this model on a down-stream task to be able to use it for predictions and inference.\n"
     ]
    },
    {
     "data": {
      "application/vnd.jupyter.widget-view+json": {
       "model_id": "79a3f5865e6446098baf219247aa847d",
       "version_major": 2,
       "version_minor": 0
      },
      "text/plain": [
       "Downloading:   0%|          | 0.00/232k [00:00<?, ?B/s]"
      ]
     },
     "metadata": {},
     "output_type": "display_data"
    },
    {
     "data": {
      "application/vnd.jupyter.widget-view+json": {
       "model_id": "47a95bdd5f874ed6abd53763eca71885",
       "version_major": 2,
       "version_minor": 0
      },
      "text/plain": [
       "Downloading:   0%|          | 0.00/112 [00:00<?, ?B/s]"
      ]
     },
     "metadata": {},
     "output_type": "display_data"
    },
    {
     "data": {
      "application/vnd.jupyter.widget-view+json": {
       "model_id": "8d7c91c5f52e4f139e7478564ad86345",
       "version_major": 2,
       "version_minor": 0
      },
      "text/plain": [
       "Downloading:   0%|          | 0.00/2.00 [00:00<?, ?B/s]"
      ]
     },
     "metadata": {},
     "output_type": "display_data"
    },
    {
     "name": "stderr",
     "output_type": "stream",
     "text": [
      "07/20/2022 15:29:39 - WARNING - farm.utils -   ML Logging is turned off. No parameters, metrics or artifacts will be logged to MLFlow.\n",
      "07/20/2022 15:29:39 - INFO - farm.utils -   Using device: CUDA \n",
      "07/20/2022 15:29:39 - INFO - farm.utils -   Number of GPUs: 1\n",
      "07/20/2022 15:29:39 - INFO - farm.utils -   Distributed Training: False\n",
      "07/20/2022 15:29:39 - INFO - farm.utils -   Automatic Mixed Precision: None\n",
      "07/20/2022 15:29:39 - INFO - farm.infer -   Got ya 2 parallel workers to do inference ...\n",
      "07/20/2022 15:29:39 - INFO - farm.infer -    0    0 \n",
      "07/20/2022 15:29:39 - INFO - farm.infer -   /w\\  /w\\\n",
      "07/20/2022 15:29:39 - INFO - farm.infer -   /'\\  / \\\n",
      "07/20/2022 15:29:39 - INFO - farm.infer -     \n"
     ]
    }
   ],
   "source": [
    "#hide_output\n",
    "minilm_ckpt = \"microsoft/MiniLM-L12-H384-uncased\"\n",
    "minilm_reader = FARMReader(model_name_or_path=minilm_ckpt, progress_bar=False,\n",
    "                           max_seq_len=max_seq_length, doc_stride=doc_stride,\n",
    "                           return_no_answer=True)"
   ]
  },
  {
   "cell_type": "code",
   "execution_count": 89,
   "metadata": {},
   "outputs": [
    {
     "name": "stderr",
     "output_type": "stream",
     "text": [
      "07/20/2022 15:30:54 - INFO - farm.utils -   Using device: CUDA \n",
      "07/20/2022 15:30:54 - INFO - farm.utils -   Number of GPUs: 1\n",
      "07/20/2022 15:30:54 - INFO - farm.utils -   Distributed Training: False\n",
      "07/20/2022 15:30:54 - INFO - farm.utils -   Automatic Mixed Precision: None\n",
      "Preprocessing Dataset electronics-train.json:   0%|          | 0/1265 [00:00<?, ? Dicts/s]07/20/2022 15:30:56 - WARNING - farm.data_handler.processor -   Answer using start/end indices is '  Operation of the menus and contro' while gold label text is 'Operation of the menus and controls'.\n",
      "Example will not be converted for training/evaluation.\n",
      "07/20/2022 15:30:56 - WARNING - farm.data_handler.processor -   Answer using start/end indices is '  This camera performs like the pros.  Fast accurate and easy to operat' while gold label text is 'This camera performs like the pros.  Fast accurate and easy to operated'.\n",
      "Example will not be converted for training/evaluation.\n",
      "Preprocessing Dataset electronics-train.json:  20%|██        | 253/1265 [00:02<00:10, 97.88 Dicts/s]\n",
      "07/20/2022 15:30:56 - ERROR - farm.data_handler.processor -   Unable to convert 2 samples to features. Their ids are : 595-0-0, 572-0-0\n",
      "Preprocessing Dataset electronics-validation.json:  20%|██        | 51/252 [00:00<00:02, 92.73 Dicts/s]\n",
      "07/20/2022 15:30:57 - ERROR - farm.data_handler.processor -   Unable to convert 2 samples to features. Their ids are : 595-0-0, 572-0-0\n",
      "07/20/2022 15:30:57 - INFO - farm.modeling.optimization -   Loading optimizer `TransformersAdamW`: '{'correct_bias': False, 'weight_decay': 0.01, 'lr': 1e-05}'\n",
      "07/20/2022 15:30:57 - INFO - farm.modeling.optimization -   Using scheduler 'get_linear_schedule_with_warmup'\n",
      "07/20/2022 15:30:57 - INFO - farm.modeling.optimization -   Loading schedule `get_linear_schedule_with_warmup`: '{'num_training_steps': 164, 'num_warmup_steps': 32}'\n",
      "07/20/2022 15:32:13 - INFO - haystack.reader.farm -   Saving reader model to /home/andreas/nlp-transformers-notebooks/haystack\n"
     ]
    }
   ],
   "source": [
    "#hide_output\n",
    "minilm_reader.train(data_dir=\".\", use_gpu=True, n_epochs=1, batch_size=16,\n",
    "             train_filename=train_filename, dev_filename=dev_filename, \n",
    "                    save_dir='/home/andreas/nlp-transformers-notebooks/haystack')"
   ]
  },
  {
   "cell_type": "code",
   "execution_count": null,
   "metadata": {},
   "outputs": [],
   "source": [
    "reader_eval[\"Fine-tune on SubjQA\"] = evaluate_reader(minilm_reader)\n",
    "plot_reader_eval(reader_eval)"
   ]
  },
  {
   "cell_type": "markdown",
   "metadata": {},
   "source": [
    "### Evaluating the Whole QA Pipeline"
   ]
  },
  {
   "cell_type": "code",
   "execution_count": null,
   "metadata": {},
   "outputs": [],
   "source": [
    "#hide_output\n",
    "# Initialize retriever pipeline\n",
    "pipe = EvalRetrieverPipeline(es_retriever)\n",
    "# Add nodes for reader\n",
    "eval_reader = EvalAnswers()\n",
    "pipe.pipeline.add_node(component=reader, name=\"QAReader\", \n",
    "              inputs=[\"EvalRetriever\"])\n",
    "pipe.pipeline.add_node(component=eval_reader, name=\"EvalReader\", \n",
    "              inputs=[\"QAReader\"])\n",
    "# Evaluate!\n",
    "run_pipeline(pipe)\n",
    "# Extract metrics from reader\n",
    "reader_eval[\"QA Pipeline (top-1)\"] = {\n",
    "    k:v for k,v in eval_reader.__dict__.items()\n",
    "    if k in [\"top_1_em\", \"top_1_f1\"]}"
   ]
  },
  {
   "cell_type": "code",
   "execution_count": null,
   "metadata": {},
   "outputs": [],
   "source": [
    "#hide_input\n",
    "#id reader-vs-pipeline\n",
    "#caption Comparison of EM and _F_~1~ scores for the reader against the whole QA pipeline\n",
    "plot_reader_eval({\"Reader\": reader_eval[\"Fine-tune on SQuAD + SubjQA\"], \n",
    "                  \"QA pipeline (top-1)\": reader_eval[\"QA Pipeline (top-1)\"]})"
   ]
  },
  {
   "cell_type": "markdown",
   "metadata": {},
   "source": [
    "## Going Beyond Extractive QA"
   ]
  },
  {
   "cell_type": "markdown",
   "metadata": {},
   "source": [
    "<img alt=\"RAG Architecture\" width=\"600\" caption=\"The RAG architecture for fine-tuning a retriever and generator end-to-end (courtesy of Ethan Perez)\" src=\"images/chapter07_rag-architecture.png\" id=\"rag\"/>"
   ]
  },
  {
   "cell_type": "code",
   "execution_count": null,
   "metadata": {},
   "outputs": [],
   "source": [
    "#hide_output\n",
    "from haystack.generator.transformers import RAGenerator\n",
    "\n",
    "generator = RAGenerator(model_name_or_path=\"facebook/rag-token-nq\",\n",
    "                        embed_title=False, num_beams=5)"
   ]
  },
  {
   "cell_type": "code",
   "execution_count": null,
   "metadata": {},
   "outputs": [],
   "source": [
    "#hide_output\n",
    "from haystack.pipeline import GenerativeQAPipeline\n",
    "\n",
    "pipe = GenerativeQAPipeline(generator=generator, retriever=dpr_retriever)"
   ]
  },
  {
   "cell_type": "code",
   "execution_count": null,
   "metadata": {},
   "outputs": [],
   "source": [
    "def generate_answers(query, top_k_generator=3):\n",
    "    preds = pipe.run(query=query, top_k_generator=top_k_generator, \n",
    "                     top_k_retriever=5, filters={\"item_id\":[\"B0074BW614\"]})  \n",
    "    print(f\"Question: {preds['query']} \\n\")\n",
    "    for idx in range(top_k_generator):\n",
    "        print(f\"Answer {idx+1}: {preds['answers'][idx]['answer']}\")"
   ]
  },
  {
   "cell_type": "code",
   "execution_count": null,
   "metadata": {},
   "outputs": [],
   "source": [
    "generate_answers(query)"
   ]
  },
  {
   "cell_type": "code",
   "execution_count": null,
   "metadata": {},
   "outputs": [],
   "source": [
    "generate_answers(\"What is the main drawback?\")"
   ]
  },
  {
   "cell_type": "markdown",
   "metadata": {},
   "source": [
    "## Conclusion"
   ]
  },
  {
   "cell_type": "markdown",
   "metadata": {},
   "source": [
    "<img alt=\"QA Pyramid\" caption=\"The QA hierarchy of needs\" src=\"images/chapter07_qa-pyramid.png\" id=\"qa-pyramid\"/> "
   ]
  },
  {
   "cell_type": "markdown",
   "metadata": {},
   "source": []
  }
 ],
 "metadata": {
  "kernelspec": {
   "display_name": "Python 3 (ipykernel)",
   "language": "python",
   "name": "python3"
  },
  "language_info": {
   "codemirror_mode": {
    "name": "ipython",
    "version": 3
   },
   "file_extension": ".py",
   "mimetype": "text/x-python",
   "name": "python",
   "nbconvert_exporter": "python",
   "pygments_lexer": "ipython3",
   "version": "3.9.7"
  }
 },
 "nbformat": 4,
 "nbformat_minor": 4
}
